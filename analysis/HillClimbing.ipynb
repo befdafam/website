{
 "cells": [
  {
   "cell_type": "markdown",
   "metadata": {},
   "source": [
    "here imma find the most likely key using a method of random switching to find the best model"
   ]
  },
  {
   "cell_type": "code",
   "execution_count": 2,
   "metadata": {},
   "outputs": [
    {
     "name": "stdout",
     "output_type": "stream",
     "text": [
      "the project gutenberg ebook of crime and punishment by fyodor dostoevsky  this ebook is for the use of anyone anywhere at no cost and with almost no restrictions whatsoever  you may copy it give i\n"
     ]
    }
   ],
   "source": [
    "from utils import *\n",
    "crime = open(\"../data/Crime.txt\", \"r\")\n",
    "sample=crime.read(200)\n",
    "sample=extract_characters(sample)\n",
    "crimeString= crime.read()\n",
    "crimeString=extract_characters(crimeString)\n",
    "freqCrime=freq_array(crimeString)\n",
    "pairProbsCrime=get_pair_freq(crimeString)\n",
    "print(sample)"
   ]
  },
  {
   "cell_type": "code",
   "execution_count": 3,
   "metadata": {},
   "outputs": [
    {
     "name": "stdout",
     "output_type": "stream",
     "text": [
      "1.0\n"
     ]
    }
   ],
   "source": [
    "probabilitiesCrime=list(freqCrime)\n",
    "for i in range (len(probabilitiesCrime)):\n",
    "    probabilitiesCrime[i]=probabilitiesCrime[i]/sum(freqCrime)\n",
    "print(sum(probabilitiesCrime))"
   ]
  },
  {
   "cell_type": "code",
   "execution_count": 67,
   "metadata": {},
   "outputs": [],
   "source": [
    "def climb_that_hill(ciphertext,probabilities, pairProbs):\n",
    "    startKey=substitute_singles_key(ciphertext,probabilities)\n",
    "    i=0\n",
    "    while i<20000:\n",
    "        plaintext1=decode_arist(ciphertext,startKey)\n",
    "        liklihood1=log_liklihood_pairs(plaintext1,probabilities,pairProbs)\n",
    "        l1=random.randint(0,25)\n",
    "        l2=random.randint(0,25)\n",
    "        while l2==l1:\n",
    "            l2=random.randint(0,25)\n",
    "        key2=list(startKey)\n",
    "        templetter=int(key2[l1])\n",
    "        key2[l1]=int(key2[l2])\n",
    "        key2[l2]=int(templetter)\n",
    "        plaintext2=decode_arist(ciphertext,key2)\n",
    "        liklihood2=log_liklihood_pairs(plaintext2,probabilities,pairProbs)\n",
    "        if liklihood2>liklihood1:\n",
    "            startKey=list(key2)\n",
    "        else:\n",
    "            i+=1\n",
    "    return startKey"
   ]
  },
  {
   "cell_type": "code",
   "execution_count": 76,
   "metadata": {},
   "outputs": [
    {
     "name": "stdout",
     "output_type": "stream",
     "text": [
      "[16, 8, 14, 22, 0, 23, 6, 1, 19, 9, 17, 13, 25, 7, 2, 11, 3, 4, 10, 15, 21, 18, 24, 20, 12, 5]\n",
      "kba eaqkch t kpqepaw pbtk kpethg ytpb q paa tk pbqp t qz bclthg pba xeadvahom ocvhp ytnn gap tp etgbp qhw fca ytnn ia kc lecvw cx za tx t yetpa asah zcea ybm tk tp hcp xthwthg qhm cx pba a t wc hcp rhcy zqmia pbtk ytnn banl pbqpbqpbpb\n"
     ]
    }
   ],
   "source": [
    "key=get_random_key()\n",
    "print(key)\n",
    "realtext=\"she reason i started this string with a tee is that i am hoping the frequency count will get it right and zoe will be so proud of me if i write even more why is it not finding any of the e i do not know maybe this will help thathathth\"\n",
    "ciphertext=encode_arist(realtext,key)\n",
    "print(ciphertext)"
   ]
  },
  {
   "cell_type": "code",
   "execution_count": 78,
   "metadata": {},
   "outputs": [
    {
     "name": "stdout",
     "output_type": "stream",
     "text": [
      "[19, 8, 25, 22, 0, 23, 6, 1, 16, 9, 14, 13, 12, 7, 2, 11, 3, 4, 10, 15, 21, 17, 24, 18, 5, 26]\n",
      "rno dosrih a rtsdtoy tnar rtdahm uatn s too ar tnst a sg nifahm tno wdokpohvc vipht uall mot at damnt shy xio uall bo ri fdipy iw go aw a udato ojoh gido unc ar at hit wahyahm shc iw tno o a yi hit zhiu gscbo tnar uall nolf tnstnstntn\n",
      "...\n",
      "she reison a stirted thas strang wath i tee as thit a ic hopang the frequenkm kount wall get at raght ind yoe wall be so proud of ce af a wrate exen core whm as at not fandang inm of the e a do not vnow cimbe thas wall help thithithth\n"
     ]
    }
   ],
   "source": [
    "findkey=climb_that_hill(ciphertext,probabilitiesCrime, pairProbsCrime)\n",
    "print(findkey)\n",
    "singles=substitute_singles(ciphertext,probabilitiesCrime)\n",
    "print(singles)\n",
    "print(\"...\")\n",
    "plaintext=decode_arist(ciphertext,findkey)\n",
    "print(plaintext)"
   ]
  },
  {
   "cell_type": "code",
   "execution_count": 79,
   "metadata": {},
   "outputs": [
    {
     "name": "stdout",
     "output_type": "stream",
     "text": [
      "-533.4181447320713\n",
      "-540.541356586704\n"
     ]
    }
   ],
   "source": [
    "print(log_liklihood_pairs(realtext, probabilitiesCrime, pairProbsCrime))\n",
    "print(log_liklihood_pairs(plaintext, probabilitiesCrime, pairProbsCrime))\n"
   ]
  },
  {
   "cell_type": "code",
   "execution_count": null,
   "metadata": {},
   "outputs": [],
   "source": []
  }
 ],
 "metadata": {
  "kernelspec": {
   "display_name": "Python 3",
   "language": "python",
   "name": "python3"
  },
  "language_info": {
   "codemirror_mode": {
    "name": "ipython",
    "version": 3
   },
   "file_extension": ".py",
   "mimetype": "text/x-python",
   "name": "python",
   "nbconvert_exporter": "python",
   "pygments_lexer": "ipython3",
   "version": "3.7.6"
  }
 },
 "nbformat": 4,
 "nbformat_minor": 4
}
