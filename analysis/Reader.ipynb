{
 "cells": [
  {
   "cell_type": "markdown",
   "metadata": {},
   "source": [
    "This will read crime and punishment.\n",
    "It will tell me how many of each letter there are.\n",
    "How many of each word there are.\n",
    "How frequent letter combinations are."
   ]
  },
  {
   "cell_type": "code",
   "execution_count": 1,
   "metadata": {},
   "outputs": [],
   "source": [
    "from utils import *"
   ]
  },
  {
   "cell_type": "code",
   "execution_count": 7,
   "metadata": {},
   "outputs": [
    {
     "name": "stdout",
     "output_type": "stream",
     "text": [
      "1100308\n"
     ]
    }
   ],
   "source": [
    "#how many letters plus spaces are there?\n",
    "crime = open(\"../data/Crime.txt\", \"r\")\n",
    "crimeString= crime.read()\n",
    "crimeString=extract_characters(crimeString)\n",
    "print(len(crimeString))"
   ]
  },
  {
   "cell_type": "code",
   "execution_count": 8,
   "metadata": {},
   "outputs": [
    {
     "name": "stdout",
     "output_type": "stream",
     "text": [
      "a: 74047\n",
      "b: 12284\n",
      "c: 18882\n",
      "d: 39215\n",
      "e: 105028\n",
      "f: 17208\n",
      "g: 18403\n",
      "h: 56014\n",
      "i: 62653\n",
      "j: 839\n",
      "k: 9760\n",
      "l: 35851\n",
      "m: 22471\n",
      "n: 63157\n",
      "o: 72233\n",
      "p: 13998\n",
      "q: 788\n",
      "r: 48495\n",
      "s: 53519\n",
      "t: 80837\n",
      "u: 27782\n",
      "v: 11111\n",
      "w: 20995\n",
      "x: 1331\n",
      "y: 21287\n",
      "z: 1088\n",
      "space: 211032\n"
     ]
    }
   ],
   "source": [
    "#print table of each letter\n",
    "\n",
    "numberOfEach=[]\n",
    "for i in range (26):\n",
    "    currentLetter=chr(97+i)\n",
    "    numLetter = len(re.findall(currentLetter, crimeString))\n",
    "    numberOfEach.append(numLetter)\n",
    "    print (currentLetter+\": \"+str(numLetter))\n",
    "numSpace = len(re.findall(' ', crimeString))\n",
    "numberOfEach.append(numSpace)\n",
    "print (\"space: \"+str(numSpace))\n",
    "#print (numberOfEach)\n"
   ]
  },
  {
   "cell_type": "code",
   "execution_count": 9,
   "metadata": {},
   "outputs": [
    {
     "data": {
      "text/plain": [
       "53519"
      ]
     },
     "execution_count": 9,
     "metadata": {},
     "output_type": "execute_result"
    }
   ],
   "source": [
    "freq_array(crimeString)[18]"
   ]
  },
  {
   "cell_type": "code",
   "execution_count": 11,
   "metadata": {},
   "outputs": [
    {
     "name": "stdout",
     "output_type": "stream",
     "text": [
      "7097\n"
     ]
    },
    {
     "data": {
      "text/plain": [
       "'  secondLetter=\" \"\\n        pair=firstLetter+secondLetter\\n        numPair = len(re.findall(pair, crimeString))\\n        pairsList[i].append(numPair)\\n        print (firstLetter+secondLetter+\": \"+str(numPair))\\nfirstLetter=\" \"\\npairsList.append(fList)\\nfor j in range (26):\\n    secondLetter=chr(97+j)\\n    pair=firstLetter+secondLetter\\n    numPair = len(re.findall(pair, crimeString))\\n    pairsList[i].append(numPair)\\n#print (pairsList)'"
      ]
     },
     "execution_count": 11,
     "metadata": {},
     "output_type": "execute_result"
    }
   ],
   "source": [
    "#how many number pairs\n",
    "print(get_pairs_array(crimeString)[18][19])\n",
    "            \n",
    "#print (firstLetter+secondLetter+\": \"+str(numPair))\n",
    "#checks when secondletter is a space\n",
    "'''  secondLetter=\" \"\n",
    "        pair=firstLetter+secondLetter\n",
    "        numPair = len(re.findall(pair, crimeString))\n",
    "        pairsList[i].append(numPair)\n",
    "        print (firstLetter+secondLetter+\": \"+str(numPair))\n",
    "firstLetter=\" \"\n",
    "pairsList.append(fList)\n",
    "for j in range (26):\n",
    "    secondLetter=chr(97+j)\n",
    "    pair=firstLetter+secondLetter\n",
    "    numPair = len(re.findall(pair, crimeString))\n",
    "    pairsList[i].append(numPair)\n",
    "#print (pairsList)'''"
   ]
  },
  {
   "cell_type": "code",
   "execution_count": null,
   "metadata": {},
   "outputs": [],
   "source": []
  }
 ],
 "metadata": {
  "kernelspec": {
   "display_name": "Python 3",
   "language": "python",
   "name": "python3"
  },
  "language_info": {
   "codemirror_mode": {
    "name": "ipython",
    "version": 3
   },
   "file_extension": ".py",
   "mimetype": "text/x-python",
   "name": "python",
   "nbconvert_exporter": "python",
   "pygments_lexer": "ipython3",
   "version": "3.7.6"
  }
 },
 "nbformat": 4,
 "nbformat_minor": 4
}
