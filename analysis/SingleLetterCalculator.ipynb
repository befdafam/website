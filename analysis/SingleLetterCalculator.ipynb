{
 "cells": [
  {
   "cell_type": "code",
   "execution_count": null,
   "metadata": {},
   "outputs": [],
   "source": [
    "from utils import *"
   ]
  },
  {
   "cell_type": "code",
   "execution_count": null,
   "metadata": {},
   "outputs": [],
   "source": [
    "plaintext=\"you've got the eye\"\n",
    "key=get_random_key()\n",
    "print(key)\n",
    "ciphertext=encode_arist(plaintext,key)\n",
    "print(calc_liklihood_arist_key(ciphertext,key))\n",
    "wrongKey=get_random_key()\n",
    "print(wrongKey)\n",
    "print(calc_liklihood_arist_key(ciphertext,wrongKey))"
   ]
  },
  {
   "cell_type": "markdown",
   "metadata": {},
   "source": [
    "**don't run this code it will kill you**\n",
    "\n",
    "import itertools\n",
    "letters=list(range(0, 26))\n",
    "#permutations=list(itertools.permutations(letters, 26))\n",
    "permutations=list(itertools.permutations([0,1,2], 3))\n",
    "def most_likely_key_arist(ciphertext):\n",
    "    maxval=0\n",
    "    bestKey=0\n",
    "    old=0\n",
    "    for i in range (len(permutations)):\n",
    "        new=calc_likelihood_arist_key(ciphertext,permutations[i])\n",
    "        if new>old:\n",
    "            maxval=new\n",
    "            bestKey=permutations[i]\n",
    "        old=new\n",
    "    return bestKey"
   ]
  },
  {
   "cell_type": "code",
   "execution_count": 78,
   "metadata": {},
   "outputs": [
    {
     "name": "stdout",
     "output_type": "stream",
     "text": [
      "[4, 19, 0, 14, 13, 8, 7, 18, 17, 3, 11, 20, 12, 24, 22, 2, 6, 5, 15, 1, 21, 10, 23, 25, 9, 16]\n",
      "[4, 14, 3, 7, 17, 19, 20, 0, 1, 2, 5, 6, 8, 9, 10, 11, 12, 13, 15, 16, 18, 21, 22, 23, 24, 25]\n"
     ]
    }
   ],
   "source": [
    "from ipynb.fs.defs.Tester import *\n",
    "from ipynb.fs.full.Reader import *\n",
    "from ipynb.fs.full.CaesarCalculator import *\n",
    "\n",
    "#create an array of letter frequencies, called freq, from crime and punishment\n",
    "crime = open(\"../data/Crime.txt\", \"r\")\n",
    "sampleText=crime.read(100000)\n",
    "crimeString= crime.read()\n",
    "crimeString=extract_characters(crimeString)\n",
    "freq=freq_array(crimeString)\n",
    "\n",
    "#ranks the letters from most to least frequent. ranks is the ranking taken from crime\n",
    "temp=freq\n",
    "temp.pop(26)\n",
    "ranks=[]\n",
    "for i in range (len(temp)):\n",
    "    maxi=temp.index(max(temp))\n",
    "    ranks.append(maxi)\n",
    "    temp[maxi]=0\n",
    "print(ranks)\n",
    "\n",
    "\n",
    "print (rank_occurrence('the quick brown fox jumped over the lay dogs'))"
   ]
  },
  {
   "cell_type": "code",
   "execution_count": 59,
   "metadata": {},
   "outputs": [
    {
     "name": "stdout",
     "output_type": "stream",
     "text": [
      "[15, 0, 21, 19, 22, 8, 4, 1, 20, 23, 16, 14, 12, 18, 3, 6, 13, 10, 2, 11, 17, 24, 9, 25, 7, 5]\n"
     ]
    }
   ],
   "source": [
    "sampleKey=get_random_key()\n",
    "print (sampleKey)"
   ]
  },
  {
   "cell_type": "code",
   "execution_count": 86,
   "metadata": {},
   "outputs": [
    {
     "name": "stdout",
     "output_type": "stream",
     "text": [
      "the prozegt futenberf ebook oc grime and punishment bw cwodor dostoevskw  this ebook is cor the use oc anwone anwyhere at no gost and yith almost no restrigtions yhatsoever  wou maw gopw it five it ay\n"
     ]
    }
   ],
   "source": [
    "#the sample text is the beginning of crime and punishment. this tests the substitue method\n",
    "plaintext= sampleText\n",
    "ciphertext=encode_arist(plaintext,sampleKey)\n",
    "print((substitute_singles(ciphertext))[:200])"
   ]
  },
  {
   "cell_type": "code",
   "execution_count": null,
   "metadata": {},
   "outputs": [],
   "source": []
  }
 ],
 "metadata": {
  "kernelspec": {
   "display_name": "Python 3",
   "language": "python",
   "name": "python3"
  },
  "language_info": {
   "codemirror_mode": {
    "name": "ipython",
    "version": 3
   },
   "file_extension": ".py",
   "mimetype": "text/x-python",
   "name": "python",
   "nbconvert_exporter": "python",
   "pygments_lexer": "ipython3",
   "version": "3.7.6"
  }
 },
 "nbformat": 4,
 "nbformat_minor": 4
}
