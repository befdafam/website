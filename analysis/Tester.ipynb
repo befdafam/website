{
 "cells": [
  {
   "cell_type": "code",
   "execution_count": 1,
   "metadata": {},
   "outputs": [],
   "source": [
    "from utils import *\n"
   ]
  },
  {
   "cell_type": "code",
   "execution_count": 2,
   "metadata": {},
   "outputs": [
    {
     "name": "stdout",
     "output_type": "stream",
     "text": [
      "[22, 14, 22, 8, 4, 26, 8, 26, 18, 20, 17, 4, 26, 3, 14, 26, 11, 8, 10, 4, 26, 0, 1, 2, 25]\n"
     ]
    }
   ],
   "source": [
    "#test text to num\n",
    "print(text_to_num(\"wowie I sure do like abcz\"))"
   ]
  },
  {
   "cell_type": "code",
   "execution_count": 3,
   "metadata": {},
   "outputs": [
    {
     "name": "stdout",
     "output_type": "stream",
     "text": [
      "wowie n\n"
     ]
    }
   ],
   "source": [
    "#test num to text\n",
    "listNum=[22, 14, 22, 8, 4, 26, 13]\n",
    "print(num_to_text(listNum))"
   ]
  },
  {
   "cell_type": "code",
   "execution_count": 4,
   "metadata": {},
   "outputs": [
    {
     "name": "stdout",
     "output_type": "stream",
     "text": [
      "hhi my name beth\n"
     ]
    }
   ],
   "source": [
    "#test encode shift\n",
    "print(encode_shift(\"...Hhi my name beth\",0))"
   ]
  },
  {
   "cell_type": "code",
   "execution_count": 5,
   "metadata": {},
   "outputs": [
    {
     "name": "stdout",
     "output_type": "stream",
     "text": [
      "rs wi xkwo lodrkj\n",
      "hi my name bethaz\n"
     ]
    }
   ],
   "source": [
    "#test decode shift\n",
    "ciphertext=encode_shift(\"hi my name bethaz\",10)\n",
    "print(ciphertext)\n",
    "print(decode_shift(ciphertext,10))"
   ]
  },
  {
   "cell_type": "code",
   "execution_count": 6,
   "metadata": {},
   "outputs": [
    {
     "name": "stdin",
     "output_type": "stream",
     "text": [
      "what do you want to encode? hi\n"
     ]
    },
    {
     "name": "stdout",
     "output_type": "stream",
     "text": [
      "Your key: fqzljrktxsniepavomubwcghyd\n",
      "tx\n",
      "hi\n"
     ]
    }
   ],
   "source": [
    "#input secret message, randomize key, print key, ciphertext, and decoded plain text\n",
    "key=get_random_key()\n",
    "#you can edit the variable plaintext\n",
    "plaintext=input(\"what do you want to encode?\")\n",
    "ciphertext=encode_arist(plaintext,key)\n",
    "print(\"Your key: \"+num_to_text(key))\n",
    "print(ciphertext)\n",
    "print(decode_arist(ciphertext,key))"
   ]
  },
  {
   "cell_type": "code",
   "execution_count": null,
   "metadata": {},
   "outputs": [],
   "source": []
  }
 ],
 "metadata": {
  "kernelspec": {
   "display_name": "Python 3",
   "language": "python",
   "name": "python3"
  },
  "language_info": {
   "codemirror_mode": {
    "name": "ipython",
    "version": 3
   },
   "file_extension": ".py",
   "mimetype": "text/x-python",
   "name": "python",
   "nbconvert_exporter": "python",
   "pygments_lexer": "ipython3",
   "version": "3.7.6"
  }
 },
 "nbformat": 4,
 "nbformat_minor": 4
}
