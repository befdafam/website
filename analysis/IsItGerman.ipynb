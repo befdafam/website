{
 "cells": [
  {
   "cell_type": "markdown",
   "metadata": {},
   "source": [
    "differentiate between german and english text"
   ]
  },
  {
   "cell_type": "code",
   "execution_count": 5,
   "metadata": {},
   "outputs": [],
   "source": [
    "from utils import *\n"
   ]
  },
  {
   "cell_type": "code",
   "execution_count": 6,
   "metadata": {},
   "outputs": [],
   "source": [
    "crime = open(\"../data/Crime.txt\", \"r\")\n",
    "crimeString= crime.read()\n",
    "crimeString=extract_characters(crimeString)\n",
    "freqCrime=freq_array(crimeString)\n",
    "pairProbsCrime=get_pair_freq(crimeString)"
   ]
  },
  {
   "cell_type": "code",
   "execution_count": 7,
   "metadata": {},
   "outputs": [],
   "source": [
    "probabilitiesCrime=list(freqCrime)\n",
    "for i in range (len(probabilitiesCrime)):\n",
    "    probabilitiesCrime[i]=probabilitiesCrime[i]/sum(freqCrime)"
   ]
  },
  {
   "cell_type": "code",
   "execution_count": 8,
   "metadata": {},
   "outputs": [],
   "source": [
    "goethe = open(\"../data/goethe.txt\", \"r\")\n",
    "goetheString= goethe.read()\n",
    "goetheString=extract_characters(goetheString)\n",
    "freqGoethe=freq_array(goetheString)\n",
    "pairProbsGoethe=get_pair_freq(goetheString)"
   ]
  },
  {
   "cell_type": "code",
   "execution_count": 9,
   "metadata": {},
   "outputs": [],
   "source": [
    "probabilitiesGoethe=list(freqGoethe)\n",
    "for i in range (len(probabilitiesGoethe)):\n",
    "    probabilitiesGoethe[i]=probabilitiesGoethe[i]/sum(freqGoethe)"
   ]
  },
  {
   "cell_type": "code",
   "execution_count": 10,
   "metadata": {},
   "outputs": [
    {
     "name": "stdout",
     "output_type": "stream",
     "text": [
      "[0.06729661149423616, 0.011164146766178197, 0.017160649563576744, 0.03564002079417763, 0.09545327308353661, 0.01563925737157232, 0.016725316911264845, 0.05090756406388029, 0.0569413291551093, 0.0007625137688719886, 0.008870243604518008, 0.03258269502721056, 0.02042246352839387, 0.057399382718293424, 0.06564798220134727, 0.012721892415578183, 0.0007161631106926425, 0.04407402290994885, 0.04864001715883189, 0.07346761088713342, 0.02524929383409009, 0.010098081628053236, 0.019081020950497497, 0.0012096612948374456, 0.019346401189485125, 0.0009888140411593845, 0.19179357052752502]\n",
      "[0.04440356414235645, 0.014865124064935745, 0.02970409248635547, 0.04048893616279273, 0.1372037873371811, 0.012624457270397042, 0.024054473486896023, 0.046618075293379135, 0.07203264224310799, 0.0016129313501543183, 0.00867495509947863, 0.030811348061866816, 0.02570227902840503, 0.08568588815846832, 0.02142147203961708, 0.005065476294268427, 0.00021796369596679976, 0.05372369178189681, 0.04996599766342918, 0.050689637134038956, 0.03227606409876371, 0.006704563287938761, 0.015920068353415057, 0.000871854783867199, 0.002214511151022686, 0.00875342203002668, 0.17769272349997384]\n"
     ]
    }
   ],
   "source": [
    "print(probabilitiesCrime)\n",
    "print(probabilitiesGoethe)"
   ]
  },
  {
   "cell_type": "code",
   "execution_count": 25,
   "metadata": {},
   "outputs": [],
   "source": [
    "import math\n",
    "def calc_lang_log_likelihood(plaintext,probabilities):\n",
    "    freqArray=freq_array(plaintext)\n",
    "    logsum=0\n",
    "    for i in range (27):\n",
    "        #for every letter multiply the frequency of that decoded letter into a product\n",
    "        logsum=logsum+freqArray[i]*math.log(probabilities[i])\n",
    "    return logsum"
   ]
  },
  {
   "cell_type": "code",
   "execution_count": 31,
   "metadata": {},
   "outputs": [
    {
     "name": "stdout",
     "output_type": "stream",
     "text": [
      "-24.07170028154703\n",
      "-25.01017168469445\n"
     ]
    }
   ],
   "source": [
    "plaintext=\"brigitte\"\n",
    "german=calc_lang_log_likelihood(plaintext, probabilitiesGoethe)\n",
    "english=calc_lang_log_likelihood(plaintext, probabilitiesCrime)\n",
    "print(german)\n",
    "print(english)"
   ]
  },
  {
   "cell_type": "code",
   "execution_count": null,
   "metadata": {},
   "outputs": [],
   "source": []
  }
 ],
 "metadata": {
  "kernelspec": {
   "display_name": "Python 3",
   "language": "python",
   "name": "python3"
  },
  "language_info": {
   "codemirror_mode": {
    "name": "ipython",
    "version": 3
   },
   "file_extension": ".py",
   "mimetype": "text/x-python",
   "name": "python",
   "nbconvert_exporter": "python",
   "pygments_lexer": "ipython3",
   "version": "3.7.6"
  }
 },
 "nbformat": 4,
 "nbformat_minor": 4
}
