{
 "cells": [
  {
   "cell_type": "markdown",
   "metadata": {},
   "source": [
    "Here we can calculate what the most likely key for any caesar cipher is"
   ]
  },
  {
   "cell_type": "code",
   "execution_count": 3,
   "metadata": {},
   "outputs": [],
   "source": [
    "from utils import *"
   ]
  },
  {
   "cell_type": "code",
   "execution_count": 4,
   "metadata": {},
   "outputs": [
    {
     "name": "stdout",
     "output_type": "stream",
     "text": [
      "uif qspkfdu hvufocfsh fcppl pg dsjnf boe qvojtinfou cz gzpeps eptupfwtlz  uijt fcppl jt gps uif vt\n",
      "[0, 1, 4, 2, 3, 10, 3, 2, 4, 4, 1, 3, 0, 2, 4, 11, 2, 0, 5, 6, 7, 3, 1, 0, 0, 3, 17]\n",
      "the project gutenberg ebook of crime and punishment by fyodor dostoevsky  this ebook is for the us\n"
     ]
    }
   ],
   "source": [
    "#test encode and decode, as well as finding the frequency of the ciphertext letters\n",
    "\n",
    "crime = open(\"../data/Crime.txt\", \"r\")\n",
    "plaintext=crime.read(100)\n",
    "ciphertext=encode_shift(plaintext,1)\n",
    "print(ciphertext)\n",
    "print(freq_array(ciphertext))\n",
    "print(decode_shift(ciphertext,1))"
   ]
  },
  {
   "cell_type": "code",
   "execution_count": 5,
   "metadata": {},
   "outputs": [
    {
     "name": "stdout",
     "output_type": "stream",
     "text": [
      "[0.06729661149423616, 0.011164146766178197, 0.017160649563576744, 0.03564002079417763, 0.09545327308353661, 0.01563925737157232, 0.016725316911264845, 0.05090756406388029, 0.0569413291551093, 0.0007625137688719886, 0.008870243604518008, 0.03258269502721056, 0.02042246352839387, 0.057399382718293424, 0.06564798220134727, 0.012721892415578183, 0.0007161631106926425, 0.04407402290994885, 0.04864001715883189, 0.07346761088713342, 0.02524929383409009, 0.010098081628053236, 0.019081020950497497, 0.0012096612948374456, 0.019346401189485125, 0.0009888140411593845, 0.19179357052752502]\n"
     ]
    }
   ],
   "source": [
    "#create an array of relative letter frequencies, called probabilities from crime and punishment\n",
    "\n",
    "probabilities=[]\n",
    "crime = open(\"../data/Crime.txt\", \"r\")\n",
    "crimeString= crime.read()\n",
    "crimeString=extract_characters(crimeString)\n",
    "freq=freq_array(crimeString)\n",
    "for i in range (27):\n",
    "    probabilities.append(freq[i]/len(crimeString))\n",
    "print(probabilities)"
   ]
  },
  {
   "cell_type": "code",
   "execution_count": 6,
   "metadata": {},
   "outputs": [
    {
     "ename": "TypeError",
     "evalue": "calc_log_likelihood() missing 1 required positional argument: 'probabilities'",
     "output_type": "error",
     "traceback": [
      "\u001b[0;31m---------------------------------------------------------------------------\u001b[0m",
      "\u001b[0;31mTypeError\u001b[0m                                 Traceback (most recent call last)",
      "\u001b[0;32m<ipython-input-6-00bca34512ef>\u001b[0m in \u001b[0;36m<module>\u001b[0;34m\u001b[0m\n\u001b[1;32m      5\u001b[0m \u001b[0;34m\u001b[0m\u001b[0m\n\u001b[1;32m      6\u001b[0m \u001b[0;31m#decode given ciphertext using most likely key. print key and plaintext and hope it all works out\u001b[0m\u001b[0;34m\u001b[0m\u001b[0;34m\u001b[0m\u001b[0;34m\u001b[0m\u001b[0m\n\u001b[0;32m----> 7\u001b[0;31m \u001b[0mprint\u001b[0m\u001b[0;34m(\u001b[0m\u001b[0mmost_likely_key\u001b[0m\u001b[0;34m(\u001b[0m\u001b[0mciphertext\u001b[0m\u001b[0;34m)\u001b[0m\u001b[0;34m)\u001b[0m\u001b[0;34m\u001b[0m\u001b[0;34m\u001b[0m\u001b[0m\n\u001b[0m\u001b[1;32m      8\u001b[0m \u001b[0mprint\u001b[0m\u001b[0;34m(\u001b[0m\u001b[0mmost_likely_plaintext\u001b[0m\u001b[0;34m(\u001b[0m\u001b[0mciphertext\u001b[0m\u001b[0;34m)\u001b[0m\u001b[0;34m)\u001b[0m\u001b[0;34m\u001b[0m\u001b[0;34m\u001b[0m\u001b[0m\n",
      "\u001b[0;32m~/BethSummer/Decoder/notebooks/utils.py\u001b[0m in \u001b[0;36mmost_likely_key\u001b[0;34m(ciphertext)\u001b[0m\n\u001b[1;32m    138\u001b[0m     \u001b[0mliklihoodList\u001b[0m\u001b[0;34m=\u001b[0m\u001b[0;34m[\u001b[0m\u001b[0;34m]\u001b[0m\u001b[0;34m\u001b[0m\u001b[0;34m\u001b[0m\u001b[0m\n\u001b[1;32m    139\u001b[0m     \u001b[0;32mfor\u001b[0m \u001b[0mi\u001b[0m \u001b[0;32min\u001b[0m \u001b[0mrange\u001b[0m \u001b[0;34m(\u001b[0m\u001b[0;36m27\u001b[0m\u001b[0;34m)\u001b[0m\u001b[0;34m:\u001b[0m\u001b[0;34m\u001b[0m\u001b[0;34m\u001b[0m\u001b[0m\n\u001b[0;32m--> 140\u001b[0;31m         \u001b[0ml\u001b[0m\u001b[0;34m=\u001b[0m\u001b[0mcalc_log_likelihood\u001b[0m\u001b[0;34m(\u001b[0m\u001b[0mciphertext\u001b[0m\u001b[0;34m,\u001b[0m\u001b[0mi\u001b[0m\u001b[0;34m)\u001b[0m\u001b[0;34m\u001b[0m\u001b[0;34m\u001b[0m\u001b[0m\n\u001b[0m\u001b[1;32m    141\u001b[0m         \u001b[0mliklihoodList\u001b[0m\u001b[0;34m.\u001b[0m\u001b[0mappend\u001b[0m\u001b[0;34m(\u001b[0m\u001b[0ml\u001b[0m\u001b[0;34m)\u001b[0m\u001b[0;34m\u001b[0m\u001b[0;34m\u001b[0m\u001b[0m\n\u001b[1;32m    142\u001b[0m     \u001b[0mmaxval\u001b[0m\u001b[0;34m=\u001b[0m\u001b[0mmax\u001b[0m\u001b[0;34m(\u001b[0m\u001b[0mliklihoodList\u001b[0m\u001b[0;34m)\u001b[0m\u001b[0;34m\u001b[0m\u001b[0;34m\u001b[0m\u001b[0m\n",
      "\u001b[0;31mTypeError\u001b[0m: calc_log_likelihood() missing 1 required positional argument: 'probabilities'"
     ]
    }
   ],
   "source": [
    "#Enter your plaintext to encode\n",
    "\n",
    "plaintext=\"you've got the\"\n",
    "ciphertext=encode_shift(plaintext,21)\n",
    "\n",
    "#decode given ciphertext using most likely key. print key and plaintext and hope it all works out\n",
    "print(most_likely_key(ciphertext))\n",
    "print(most_likely_plaintext(ciphertext))"
   ]
  },
  {
   "cell_type": "code",
   "execution_count": 39,
   "metadata": {},
   "outputs": [
    {
     "name": "stdout",
     "output_type": "stream",
     "text": [
      "[0.06729661149423616, 0.011164146766178197, 0.017160649563576744, 0.03564002079417763, 0.09545327308353661, 0.01563925737157232, 0.016725316911264845, 0.05090756406388029, 0.0569413291551093, 0.0007625137688719886, 0.008870243604518008, 0.03258269502721056, 0.02042246352839387, 0.057399382718293424, 0.06564798220134727, 0.012721892415578183, 0.0007161631106926425, 0.04407402290994885, 0.04864001715883189, 0.07346761088713342, 0.02524929383409009, 0.010098081628053236, 0.019081020950497497, 0.0012096612948374456, 0.019346401189485125, 0.0009888140411593845, 0.19179357052752502]\n"
     ]
    }
   ],
   "source": [
    "print(probabilities)"
   ]
  },
  {
   "cell_type": "code",
   "execution_count": null,
   "metadata": {},
   "outputs": [],
   "source": []
  }
 ],
 "metadata": {
  "kernelspec": {
   "display_name": "Python 3",
   "language": "python",
   "name": "python3"
  },
  "language_info": {
   "codemirror_mode": {
    "name": "ipython",
    "version": 3
   },
   "file_extension": ".py",
   "mimetype": "text/x-python",
   "name": "python",
   "nbconvert_exporter": "python",
   "pygments_lexer": "ipython3",
   "version": "3.7.6"
  }
 },
 "nbformat": 4,
 "nbformat_minor": 4
}
