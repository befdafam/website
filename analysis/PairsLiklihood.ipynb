{
 "cells": [
  {
   "cell_type": "code",
   "execution_count": 3,
   "metadata": {},
   "outputs": [
    {
     "name": "stdout",
     "output_type": "stream",
     "text": [
      "1.0000000000000002\n"
     ]
    }
   ],
   "source": [
    "from utils import *\n",
    "crime = open(\"../data/Crime.txt\", \"r\")\n",
    "crimeString= crime.read()\n",
    "crimeString=extract_characters(crimeString)\n",
    "freqCrime=freq_array(crimeString)\n",
    "pairProbsCrime=get_pair_freq(crimeString)\n",
    "print(sum(pairProbsCrime[26]))"
   ]
  },
  {
   "cell_type": "code",
   "execution_count": 2,
   "metadata": {},
   "outputs": [
    {
     "name": "stdout",
     "output_type": "stream",
     "text": [
      "1.0000000000000002\n"
     ]
    }
   ],
   "source": [
    "probabilitiesCrime=list(freqCrime)\n",
    "for i in range (len(probabilitiesCrime)):\n",
    "    probabilitiesCrime[i]=probabilitiesCrime[i]/sum(freqCrime)\n",
    "print(sum(probabilitiesCrime))"
   ]
  },
  {
   "cell_type": "code",
   "execution_count": 8,
   "metadata": {},
   "outputs": [
    {
     "name": "stdout",
     "output_type": "stream",
     "text": [
      "[4, 19, 26, 7, 13, 0, 6, 8, 21, 2, 17, 1, 3, 5, 9, 10, 11, 12, 14, 15, 16, 18, 20, 22, 23, 24, 25]\n",
      "[26, 15, 10, 2, 4, 12, 11, 6, 0, 23, 18, 17, 3, 13, 7, 14, 24, 21, 8, 19, 1, 16, 9, 20, 5, 22]\n"
     ]
    }
   ],
   "source": [
    "ciphertext=\"the evening the cat ate everthing\"\n",
    "print(rank_occurrence(ciphertext))\n",
    "print(substitute_singles_key(ciphertext,freqCrime))"
   ]
  },
  {
   "cell_type": "code",
   "execution_count": 9,
   "metadata": {},
   "outputs": [
    {
     "name": "stdout",
     "output_type": "stream",
     "text": [
      "toe erensnh toe dit ite ereltosnh\n"
     ]
    }
   ],
   "source": [
    "print(substitute_singles(ciphertext,freqCrime))"
   ]
  },
  {
   "cell_type": "code",
   "execution_count": 6,
   "metadata": {},
   "outputs": [
    {
     "name": "stdout",
     "output_type": "stream",
     "text": [
      "[5, 0, 0, 0, 0, 0, 0, 0, 0, 0, 0, 0, 0, 0, 0, 0, 0, 0, 0, 0, 0, 0, 0, 0, 0, 0, 1]\n"
     ]
    }
   ],
   "source": [
    "print(get_pairs_array(\"aaa aaaa\")[0])"
   ]
  },
  {
   "cell_type": "code",
   "execution_count": 4,
   "metadata": {},
   "outputs": [
    {
     "name": "stdout",
     "output_type": "stream",
     "text": [
      "3.6257701932430693e-09\n",
      "4.347356760815953e-26\n",
      "1.4990474582192451e-09\n",
      "8.390923157963542e-22\n"
     ]
    }
   ],
   "source": [
    "#comparing four possible models for different substitutions\n",
    "print(liklihood_pairs(\"the apple\",probabilitiesCrime,pairProbsCrime))\n",
    "print(liklihood_pairs(\"zrj pooij\",probabilitiesCrime,pairProbsCrime))\n",
    "print(liklihood_pairs(\"ing soori\",probabilitiesCrime,pairProbsCrime))\n",
    "print(liklihood_pairs(\"adf gxxja\",probabilitiesCrime,pairProbsCrime))"
   ]
  },
  {
   "cell_type": "code",
   "execution_count": 4,
   "metadata": {},
   "outputs": [
    {
     "name": "stdout",
     "output_type": "stream",
     "text": [
      "0.9999999999999999\n"
     ]
    }
   ],
   "source": [
    "print(sum(get_pair_freq(crimeString)[25]))"
   ]
  },
  {
   "cell_type": "code",
   "execution_count": 5,
   "metadata": {},
   "outputs": [
    {
     "name": "stdout",
     "output_type": "stream",
     "text": [
      "-16.750820855130662\n",
      "-51.47765131342388\n",
      "-17.395760774930224\n",
      "-45.76377949633462\n"
     ]
    }
   ],
   "source": [
    "#comparing four possible models for different substitutions using logs\n",
    "print(log_liklihood_pairs(\"the apple\",probabilitiesCrime,pairProbsCrime))\n",
    "print(log_liklihood_pairs(\"zrj pooij\",probabilitiesCrime,pairProbsCrime))\n",
    "print(log_liklihood_pairs(\"ing soori\",probabilitiesCrime,pairProbsCrime))\n",
    "print(log_liklihood_pairs(\"adf gxxja\",probabilitiesCrime,pairProbsCrime))"
   ]
  },
  {
   "cell_type": "code",
   "execution_count": 6,
   "metadata": {},
   "outputs": [
    {
     "name": "stdout",
     "output_type": "stream",
     "text": [
      "-238.30396137976126\n"
     ]
    }
   ],
   "source": [
    "print(log_liklihood_pairs(\"the apple is a very long string which is maybe long enough and uses weird leters like zwqxj\",probabilitiesCrime,pairProbsCrime))"
   ]
  },
  {
   "cell_type": "code",
   "execution_count": 7,
   "metadata": {},
   "outputs": [
    {
     "name": "stdout",
     "output_type": "stream",
     "text": [
      "-117.59651428205008\n"
     ]
    }
   ],
   "source": [
    "print(log_liklihood_pairs(\"the quick brown fox jumped over the lazy dogs\",probabilitiesCrime,pairProbsCrime))"
   ]
  },
  {
   "cell_type": "code",
   "execution_count": null,
   "metadata": {},
   "outputs": [],
   "source": []
  }
 ],
 "metadata": {
  "kernelspec": {
   "display_name": "Python 3",
   "language": "python",
   "name": "python3"
  },
  "language_info": {
   "codemirror_mode": {
    "name": "ipython",
    "version": 3
   },
   "file_extension": ".py",
   "mimetype": "text/x-python",
   "name": "python",
   "nbconvert_exporter": "python",
   "pygments_lexer": "ipython3",
   "version": "3.7.6"
  }
 },
 "nbformat": 4,
 "nbformat_minor": 4
}
